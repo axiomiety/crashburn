{
 "metadata": {
  "name": "",
  "signature": "sha256:d83e0a2d4266213921a768703f04dff0eee7e3a7b0665729b7e84f27707c3a43"
 },
 "nbformat": 3,
 "nbformat_minor": 0,
 "worksheets": [
  {
   "cells": [
    {
     "cell_type": "code",
     "collapsed": false,
     "input": [
      "# data is available here: https://archive.ics.uci.edu/ml/datasets/SMS+Spam+Collection\n",
      "import pandas\n",
      "df = pandas.read_csv('SMSSpamCollection', sep='\\t', names=('classification', 'sms'))\n",
      "#print(df)\n",
      "ct = df['classification'].value_counts()\n",
      "num_ham, num_spam = ct['ham'], ct['spam']\n",
      "proportion = num_ham / num_spam\n",
      "print(proportion)"
     ],
     "language": "python",
     "metadata": {},
     "outputs": [
      {
       "output_type": "stream",
       "stream": "stdout",
       "text": [
        "6.45917001339\n"
       ]
      }
     ],
     "prompt_number": 191
    },
    {
     "cell_type": "code",
     "collapsed": false,
     "input": [
      "# there's no need to keep the classification column\n",
      "spam = df[df['classification'] == 'spam']['sms']\n",
      "ham = df[df['classification'] == 'ham']['sms']\n",
      "\n",
      "# we'll use 70% of our data for training - 70%\n",
      "# we also specify the seed so subsequent runs have the same outcome\n",
      "train_perc = 0.5\n",
      "seed = 314\n",
      "\n",
      "train_spam = spam.sample(frac=train_perc, random_state=seed)\n",
      "train_ham = ham.sample(frac=train_perc, random_state=seed)\n",
      "\n",
      "test_spam = spam.drop(train_spam.index)\n",
      "test_ham = ham.drop(train_ham.index)\n",
      "\n",
      "# just want to make sure the dimensions add up\n",
      "print(len(spam), len(ham))\n",
      "print(len(train_spam), len(train_ham))\n",
      "print(len(test_spam), len(test_ham))"
     ],
     "language": "python",
     "metadata": {},
     "outputs": [
      {
       "output_type": "stream",
       "stream": "stdout",
       "text": [
        "747 4825\n",
        "374 2412\n",
        "373 2413\n"
       ]
      }
     ],
     "prompt_number": 157
    },
    {
     "cell_type": "code",
     "collapsed": false,
     "input": [
      "# basic bayes - let's find the most common spam word\n",
      "#print(test_spam.ix[2])\n",
      "#msg = test_spam['sms'].ix[8].lower()\n",
      "# let's get rid of punctuation\n",
      "#import re\n",
      "#new_msg = re.sub(r'\\W+', ' ', msg)# we keep a space so we can split it later\n",
      "#print(new_msg.split())"
     ],
     "language": "python",
     "metadata": {},
     "outputs": [],
     "prompt_number": 159
    },
    {
     "cell_type": "code",
     "collapsed": false,
     "input": [
      "# let's count!\n",
      "from collections import Counter\n",
      "c = Counter()\n",
      "for sms in train_spam:\n",
      "    c.update( re.sub(r'\\W+', ' ', sms.lower()).split() )\n",
      "#print( c.most_common() )\n",
      "\n",
      "# mmm - let's remove some stopwords, they carry little significance\n",
      "stopwords = ('to','a','is','or','you','the','for','on','of','in')\n",
      "c_spam = Counter()\n",
      "for sms in train_spam:\n",
      "    # we only count one occurrence of each word per message\n",
      "    # if 'claim' shows up twice in the same message, it still counts as one\n",
      "    c_spam.update( set(w for w in re.sub(r'\\W+', ' ', sms.lower()).split() if w not in stopwords) )\n",
      "print( c_spam.most_common()[:10] )\n",
      "\n",
      "# let's do the same for ham\n",
      "c_ham = Counter()\n",
      "for sms in train_ham:\n",
      "    # we only count one occurrence of each word per message\n",
      "    # if 'claim' shows up twice in the same message, it still counts as one\n",
      "    c_ham.update( set(w for w in re.sub(r'\\W+', ' ', sms.lower()).split() if w not in stopwords) )\n",
      "print( c_ham.most_common()[:10] )"
     ],
     "language": "python",
     "metadata": {},
     "outputs": [
      {
       "output_type": "stream",
       "stream": "stdout",
       "text": [
        "[('call', 159), ('your', 119), ('now', 94), ('free', 93), ('2', 74), ('txt', 71), ('have', 68), ('mobile', 62), ('u', 60), ('ur', 59)]\n",
        "[('i', 1023), ('u', 337), ('and', 324), ('me', 319), ('my', 312), ('it', 302), ('that', 249), ('s', 221), ('not', 216), ('but', 216)]"
       ]
      },
      {
       "output_type": "stream",
       "stream": "stdout",
       "text": [
        "\n"
       ]
      }
     ],
     "prompt_number": 160
    },
    {
     "cell_type": "code",
     "collapsed": false,
     "input": [
      "# we should now do the same with train_ham\n",
      "# let's try to find p(spam | claim)\n",
      "# p(spam | word) = p (word | spam)*p(spam) / p(word)\n",
      "\n",
      "# word in 'i','jurong','claim','txt','urgent','money','cash','mrt'\n",
      "\n",
      "word = 'cash'\n",
      "\n",
      "p_spam = len(train_spam)/(len(train_spam)+len(train_ham))\n",
      "p_ham = 1-p_spam\n",
      "print('p(spam): {0:.0f}%, p(ham): {1:.0f}%'.format(p_spam*100, p_ham*100))\n",
      "\n",
      "p_word_given_spam = c_spam[word]/len(train_spam)\n",
      "p_word_given_ham = c_ham[word]/len(train_ham)\n",
      "p_word = p_word_given_spam * p_spam +  p_word_given_ham * p_ham\n",
      "\n",
      "print('p(word): {0:.0f}%'.format(p_word*100))\n",
      "print('p(word|spam): {0:.0f}%'.format(p_word_given_spam*100))\n",
      "print('p(word|ham): {0:.0f}%'.format(p_word_given_ham*100))\n",
      "\n",
      "p_spam_given_word = p_word_given_spam * p_spam / p_word\n",
      "p_ham_given_word = p_word_given_ham * p_ham / p_word\n",
      "print('p(spam|word): {0:0.0f}%'.format(p_spam_given_word*100))\n",
      "print('p(ham|word): {0:0.0f}%'.format(p_ham_given_word*100))\n",
      "\n",
      "# okay let's create a fn that given a word, calculates the probabilty it is spam\n",
      "def probability_word_is_spam(word):\n",
      "    p_word_given_spam = c_spam[word]/len(train_spam)\n",
      "    p_word_given_ham = c_ham[word]/len(train_ham)\n",
      "    p_word = p_word_given_spam * p_spam +  p_word_given_ham * p_ham\n",
      "    p_spam_given_word = p_word_given_spam * p_spam / p_word\n",
      "    return p_spam_given_word\n",
      "\n",
      "#print(probability_word_is_spam('cash'))   "
     ],
     "language": "python",
     "metadata": {},
     "outputs": [
      {
       "output_type": "stream",
       "stream": "stdout",
       "text": [
        "p(spam): 13%, p(ham): 87%\n",
        "p(word): 1%\n",
        "p(word|spam): 8%\n",
        "p(word|ham): 0%\n",
        "p(spam|word): 83%\n",
        "p(ham|word): 17%\n"
       ]
      }
     ],
     "prompt_number": 175
    },
    {
     "cell_type": "code",
     "collapsed": false,
     "input": [
      "# but that's not a classifier - the word is given to us.\n",
      "# what we want is to pass in a whole message to a fn, and for this fn to tell us whether this is spam or ham\n",
      "# now need a confusion matrix so we can see how well we did on our test set!\n",
      "# what is a word isn't in our test set?\n",
      "\n",
      "# let's compute the probabilty a word is spam for all the words present in our train_spam set\n",
      "wordspam_probabilities = {word: probability_word_is_spam(word) for word in c_spam}\n",
      "wordham_probabilities = {word: 1-probability_word_is_spam(word) for word in c_ham}\n",
      "#print(len(c_spam.keys()))\n",
      "\n",
      "def classify(msg='sms claim cash', default_prob=0.00001):\n",
      "    msg_words = set(w for w in re.sub(r'\\W+', ' ', msg.lower()).split() if w not in stopwords)\n",
      "    prob_vector_ham, prob_vector_spam = [], []\n",
      "    \n",
      "    for w in msg_words:\n",
      "        prob_vector_spam.append( wordspam_probabilities.get(w, default_prob) )\n",
      "        prob_vector_ham.append( wordham_probabilities.get(w, default_prob) )\n",
      "    \n",
      "    prob_spam = numpy.log(p_spam) + numpy.sum( numpy.log(prob_vector_spam) )\n",
      "    prob_ham = numpy.log(p_ham) + numpy.sum( numpy.log(prob_vector_ham) )\n",
      "    print(prob_spam, prob_ham)\n",
      "    return 'spam' if prob_spam > prob_ham else 'ham'\n",
      "    \n",
      "print(classify(msg='call to claim cash. urgent! at friend'))\n",
      "print(wordham_probabilities['friend'])"
     ],
     "language": "python",
     "metadata": {},
     "outputs": [
      {
       "output_type": "stream",
       "stream": "stdout",
       "text": [
        "-7.93674562886 -16.6376306501\n",
        "spam\n",
        "0.8846153846153846\n"
       ]
      }
     ],
     "prompt_number": 190
    },
    {
     "cell_type": "code",
     "collapsed": false,
     "input": [
      "# let see how well we do with our own training set\n",
      "cl_spam = []\n",
      "for msg in test_spam:\n",
      "    cl_spam.append(classify(msg=msg))\n",
      "\n",
      "# let's do the same for train_ham\n",
      "cl_ham = []\n",
      "for msg in test_ham:\n",
      "    cl_ham.append(classify(msg=msg))\n",
      "\n",
      "# spam classified as spam\n",
      "true_positives = cl_spam.count('spam')\n",
      "# ham classified as ham\n",
      "true_negatives = cl_ham.count('ham')\n",
      "# spam classified as ham\n",
      "false_positives = cl_spam.count('ham')\n",
      "# ham classified as spam\n",
      "false_negatives = cl_ham.count('spam')\n",
      "\n",
      "total = true_positives + true_negatives + false_positives + false_negatives # = len(train_spam) + len(train_ham)\n",
      "\n",
      "accuracy = (true_positives + true_negatives)/total\n",
      "\n",
      "print('Accuracy: {0}'.format(accuracy))"
     ],
     "language": "python",
     "metadata": {},
     "outputs": [
      {
       "output_type": "stream",
       "stream": "stdout",
       "text": [
        "Accuracy: 0.9741564967695621\n"
       ]
      }
     ],
     "prompt_number": 179
    },
    {
     "cell_type": "code",
     "collapsed": false,
     "input": [
      "print(p_ham)"
     ],
     "language": "python",
     "metadata": {},
     "outputs": [
      {
       "output_type": "stream",
       "stream": "stdout",
       "text": [
        "0.8657573582196698\n"
       ]
      }
     ],
     "prompt_number": 181
    }
   ],
   "metadata": {}
  }
 ]
}