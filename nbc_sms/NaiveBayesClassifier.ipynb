{
 "metadata": {
  "name": "",
  "signature": "sha256:dc4a7b204cd2b80f4cd6473b284d4144a73e01efbe16397aeb0f719b78da6341"
 },
 "nbformat": 3,
 "nbformat_minor": 0,
 "worksheets": [
  {
   "cells": [
    {
     "cell_type": "code",
     "collapsed": false,
     "input": [
      "# data is available here: https://archive.ics.uci.edu/ml/datasets/SMS+Spam+Collection\n",
      "import pandas\n",
      "df = pandas.read_csv('SMSSpamCollection', sep='\\t', names=('classification', 'sms'))\n",
      "#print(df)\n",
      "ct = df['classification'].value_counts()\n",
      "num_ham, num_spam = ct['ham'], ct['spam']\n",
      "proportion = num_ham / num_spam\n",
      "print(proportion)"
     ],
     "language": "python",
     "metadata": {},
     "outputs": [],
     "prompt_number": 1
    },
    {
     "cell_type": "code",
     "collapsed": false,
     "input": [
      "# there's no need to keep the classification column\n",
      "spam = df[df['classification'] == 'spam']['sms']\n",
      "ham = df[df['classification'] == 'ham']['sms']\n",
      "\n",
      "# we'll use 70% of our data for training - 70%\n",
      "# we also specify the seed so subsequent runs have the same outcome\n",
      "train_perc = 0.7\n",
      "seed = 314\n",
      "\n",
      "train_spam = spam.sample(frac=train_perc, random_state=seed)\n",
      "train_ham = ham.sample(frac=train_perc, random_state=seed)\n",
      "\n",
      "test_spam = spam.drop(train_spam.index)\n",
      "test_ham = ham.drop(train_ham.index)\n",
      "\n",
      "# just want to make sure the dimensions add up\n",
      "print(len(spam), len(ham))\n",
      "print(len(train_spam), len(train_ham))\n",
      "print(len(test_spam), len(test_ham))"
     ],
     "language": "python",
     "metadata": {},
     "outputs": [
      {
       "output_type": "stream",
       "stream": "stdout",
       "text": [
        "747 4825\n",
        "523 3378\n",
        "224 1447\n"
       ]
      }
     ],
     "prompt_number": 75
    },
    {
     "cell_type": "code",
     "collapsed": false,
     "input": [
      "# basic bayes - let's find the most common spam word\n",
      "#print(test_spam.ix[2])\n",
      "msg = test_spam['sms'].ix[8].lower()\n",
      "# let's get rid of punctuation\n",
      "import re\n",
      "new_msg = re.sub(r'\\W+', ' ', msg)# we keep a space so we can split it later\n",
      "print(new_msg.split())"
     ],
     "language": "python",
     "metadata": {},
     "outputs": [
      {
       "output_type": "stream",
       "stream": "stdout",
       "text": [
        "classification                                                 spam\n",
        "sms               Free entry in 2 a wkly comp to win FA Cup fina...\n",
        "Name: 2, dtype: object\n",
        "['winner', 'as', 'a', 'valued', 'network', 'customer', 'you', 'have', 'been', 'selected', 'to', 'receivea', '900', 'prize', 'reward', 'to', 'claim', 'call', '09061701461', 'claim', 'code', 'kl341', 'valid', '12', 'hours', 'only']\n"
       ]
      }
     ],
     "prompt_number": 23
    },
    {
     "cell_type": "code",
     "collapsed": false,
     "input": [
      "# let's count!\n",
      "from collections import Counter\n",
      "c = Counter()\n",
      "for sms in train_spam:\n",
      "    c.update( re.sub(r'\\W+', ' ', sms.lower()).split() )\n",
      "#print( c.most_common() )\n",
      "\n",
      "# mmm - let's remove some stopwords, they carry little significance\n",
      "stopwords = ('to','a','is','or','you','the','for','on','of','in')\n",
      "c_spam = Counter()\n",
      "for sms in train_spam:\n",
      "    # we only count one occurrence of each word per message\n",
      "    # if 'claim' shows up twice in the same message, it still counts as one\n",
      "    c_spam.update( set(w for w in re.sub(r'\\W+', ' ', sms.lower()).split() if w not in stopwords) )\n",
      "print( c_spam.most_common()[:10] )\n",
      "\n",
      "# let's do the same for ham\n",
      "c_ham = Counter()\n",
      "for sms in train_ham:\n",
      "    # we only count one occurrence of each word per message\n",
      "    # if 'claim' shows up twice in the same message, it still counts as one\n",
      "    c_ham.update( set(w for w in re.sub(r'\\W+', ' ', sms.lower()).split() if w not in stopwords) )\n",
      "print( c_ham.most_common()[:10] )"
     ],
     "language": "python",
     "metadata": {},
     "outputs": [
      {
       "output_type": "stream",
       "stream": "stdout",
       "text": [
        "[('call', 229), ('your', 156), ('now', 141), ('free', 125), ('2', 106), ('txt', 105), ('u', 93), ('have', 91), ('from', 88), ('ur', 83)]\n",
        "[('i', 1425), ('u', 488), ('and', 478), ('me', 448), ('my', 418), ('it', 404), ('that', 333), ('not', 302), ('s', 298), ('but', 293)]"
       ]
      },
      {
       "output_type": "stream",
       "stream": "stdout",
       "text": [
        "\n"
       ]
      }
     ],
     "prompt_number": 76
    },
    {
     "cell_type": "code",
     "collapsed": false,
     "input": [
      "# we should now do the same with train_ham\n",
      "# let's try to find p(spam | claim)\n",
      "# p(spam | word) = p (word | spam)*p(spam) / p(word)\n",
      "\n",
      "# word in 'i','jurong','claim','txt','urgent','money','cash','mrt'\n",
      "\n",
      "word = 'cash'\n",
      "\n",
      "p_spam = len(train_spam)/(len(train_spam)+len(train_ham))\n",
      "p_ham = 1-p_spam\n",
      "print('p(spam): {0:.0f}%, p(ham): {1:.0f}%'.format(p_spam*100, p_ham*100))\n",
      "\n",
      "p_word_given_spam = c_spam[word]/len(train_spam)\n",
      "p_word_given_ham = c_ham[word]/len(train_ham)\n",
      "p_word = p_word_given_spam * p_spam +  p_word_given_ham * p_ham\n",
      "\n",
      "print('p(word): {0:.0f}%'.format(p_word*100))\n",
      "print('p(word|spam): {0:.0f}%'.format(p_word_given_spam*100))\n",
      "print('p(word|ham): {0:.0f}%'.format(p_word_given_ham*100))\n",
      "\n",
      "p_spam_given_word = p_word_given_spam * p_spam / p_word\n",
      "p_ham_given_word = p_word_given_ham * p_ham / p_word\n",
      "print('p(spam|word): {0:0.0f}%'.format(p_spam_given_word*100))\n",
      "print('p(ham|word): {0:0.0f}%'.format(p_ham_given_word*100))"
     ],
     "language": "python",
     "metadata": {},
     "outputs": [
      {
       "output_type": "stream",
       "stream": "stdout",
       "text": [
        "p(spam): 13%, p(ham): 87%\n",
        "p(word): 1%\n",
        "p(word|spam): 9%\n",
        "p(word|ham): 0%\n",
        "p(spam|word): 87%\n",
        "p(ham|word): 13%\n"
       ]
      }
     ],
     "prompt_number": 82
    },
    {
     "cell_type": "code",
     "collapsed": false,
     "input": [
      "# but that's not a classifier - the word is given to us.\n",
      "# what we want is to pass in a whole message to a fn, and for this fn to tell us whether this is spam or ham\n",
      "# now need a confusion matrix so we can see how well we did on our test set!\n",
      "# what is a word isn't in our test set?"
     ],
     "language": "python",
     "metadata": {},
     "outputs": []
    }
   ],
   "metadata": {}
  }
 ]
}