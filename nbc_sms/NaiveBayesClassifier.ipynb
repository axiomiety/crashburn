{
 "metadata": {
  "name": "",
  "signature": "sha256:42b706978173f5837e7074f4947452af80f8af36a452134b5c958d862de6b917"
 },
 "nbformat": 3,
 "nbformat_minor": 0,
 "worksheets": [
  {
   "cells": [
    {
     "cell_type": "code",
     "collapsed": false,
     "input": [
      "# data is available here: https://archive.ics.uci.edu/ml/datasets/SMS+Spam+Collection\n",
      "import pandas\n",
      "df = pandas.read_csv('SMSSpamCollection', sep='\\t', names=('classification', 'sms'))\n",
      "#print(df)\n",
      "ct = df['classification'].value_counts()\n",
      "num_ham, num_spam = ct['ham'], ct['spam']\n",
      "proportion = num_ham / num_spam\n",
      "print(proportion)"
     ],
     "language": "python",
     "metadata": {},
     "outputs": [],
     "prompt_number": 1
    },
    {
     "cell_type": "code",
     "collapsed": false,
     "input": [
      "# there's no need to keep the classification column\n",
      "spam = df[df['classification'] == 'spam']['sms']\n",
      "ham = df[df['classification'] == 'ham']['sms']\n",
      "\n",
      "# we'll use 70% of our data for training - 70%\n",
      "# we also specify the seed so subsequent runs have the same outcome\n",
      "train_perc = 0.7\n",
      "seed = 314\n",
      "\n",
      "train_spam = spam.sample(frac=train_perc)\n",
      "train_ham = ham.sample(frac=train_perc)\n",
      "\n",
      "test_spam = spam.drop(train_spam.index)\n",
      "test_ham = ham.drop(train_ham.index)\n",
      "\n",
      "# just want to make sure the dimensions add up\n",
      "print(len(spam), len(ham))\n",
      "print(len(train_spam), len(train_ham))\n",
      "print(len(test_spam), len(test_ham))"
     ],
     "language": "python",
     "metadata": {},
     "outputs": [
      {
       "output_type": "stream",
       "stream": "stdout",
       "text": [
        "747 4825\n",
        "523 3378\n",
        "224 1447\n"
       ]
      }
     ],
     "prompt_number": 25
    },
    {
     "cell_type": "code",
     "collapsed": false,
     "input": [
      "# basic bayes - let's find the most common spam word\n",
      "#print(test_spam.ix[2])\n",
      "msg = test_spam['sms'].ix[8].lower()\n",
      "# let's get rid of punctuation\n",
      "import re\n",
      "new_msg = re.sub(r'\\W+', ' ', msg)# we keep a space so we can split it later\n",
      "print(new_msg.split())\n",
      "# create massive dict of all the words for each message, where the value is a counter\n",
      "# that should be enough to do simple bayes\n",
      "# probably want to exclude stopwords & anything of length 1 or 2?\n",
      "# next is to create that sparse matrix - need joint probs"
     ],
     "language": "python",
     "metadata": {},
     "outputs": [
      {
       "output_type": "stream",
       "stream": "stdout",
       "text": [
        "classification                                                 spam\n",
        "sms               Free entry in 2 a wkly comp to win FA Cup fina...\n",
        "Name: 2, dtype: object\n",
        "['winner', 'as', 'a', 'valued', 'network', 'customer', 'you', 'have', 'been', 'selected', 'to', 'receivea', '900', 'prize', 'reward', 'to', 'claim', 'call', '09061701461', 'claim', 'code', 'kl341', 'valid', '12', 'hours', 'only']\n"
       ]
      }
     ],
     "prompt_number": 23
    },
    {
     "cell_type": "code",
     "collapsed": false,
     "input": [
      "# let's count!\n",
      "from collections import Counter\n",
      "c = Counter()\n",
      "for sms in train_spam:\n",
      "    c.update( re.sub(r'\\W+', ' ', sms.lower()).split() )\n",
      "#print( c.most_common() )\n",
      "\n",
      "# mmm - let's remove some stopwords, they carry little significance\n",
      "stopwords = ('to','a','is','or','you','the','for','on','of','in')\n",
      "c = Counter()\n",
      "for sms in train_spam:\n",
      "    c.update( w for w in re.sub(r'\\W+', ' ', sms.lower()).split() if w not in stopwords )\n",
      "print( c.most_common()[:10] )"
     ],
     "language": "python",
     "metadata": {},
     "outputs": [
      {
       "output_type": "stream",
       "stream": "stdout",
       "text": [
        "[('call', 255), ('your', 177), ('free', 154), ('2', 145), ('now', 143), ('u', 134), ('txt', 112), ('have', 100), ('from', 95), ('mobile', 93)]\n"
       ]
      }
     ],
     "prompt_number": 33
    },
    {
     "cell_type": "code",
     "collapsed": false,
     "input": [
      "# we should now do the same with train_ham\n",
      "# let's try to find p(spam | claim)\n",
      "# p(spam | claim) = p (claim | spam)*p(spam) / p(claim)"
     ],
     "language": "python",
     "metadata": {},
     "outputs": []
    }
   ],
   "metadata": {}
  }
 ]
}