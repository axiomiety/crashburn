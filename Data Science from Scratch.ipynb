{
 "metadata": {
  "name": "",
  "signature": "sha256:44dd927b22112381c69357338ddcd5653eab30347400fd25d9a056ea32804833"
 },
 "nbformat": 3,
 "nbformat_minor": 0,
 "worksheets": [
  {
   "cells": [
    {
     "cell_type": "markdown",
     "metadata": {},
     "source": [
      "## Chapter 5 - Statistics\n",
      "### Simpson's Paradox"
     ]
    },
    {
     "cell_type": "code",
     "collapsed": false,
     "input": [
      "import pandas as pd\n",
      "d= {'coast': ['west coast','east coast','west coast','east coast'],\n",
      "    'degree':['phd','phd','degree','degree'],\n",
      "    'num_members':[35,70,66,33],\n",
      "    'avg_num_friends':[3.1,3.2,10.9,13.4]}\n",
      "df = pd.DataFrame(d) \n",
      "print(df)"
     ],
     "language": "python",
     "metadata": {},
     "outputs": [
      {
       "output_type": "stream",
       "stream": "stdout",
       "text": [
        "   avg_num_friends       coast  degree  num_members\n",
        "0              3.1  west coast     phd           35\n",
        "1              3.2  east coast     phd           70\n",
        "2             10.9  west coast  degree           66\n",
        "3             13.4  east coast  degree           33\n"
       ]
      }
     ],
     "prompt_number": 5
    },
    {
     "cell_type": "markdown",
     "metadata": {},
     "source": [
      "When grouping by coast, we get a very different picture"
     ]
    },
    {
     "cell_type": "code",
     "collapsed": false,
     "input": [
      "df.groupby('coast')['num_members'].sum()"
     ],
     "language": "python",
     "metadata": {},
     "outputs": [
      {
       "metadata": {},
       "output_type": "pyout",
       "prompt_number": 15,
       "text": [
        "coast\n",
        "east coast    103\n",
        "west coast    101\n",
        "Name: num_members, dtype: int64"
       ]
      }
     ],
     "prompt_number": 15
    },
    {
     "cell_type": "code",
     "collapsed": false,
     "input": [
      "# we can't simply average the averages!\n",
      "df.groupby('coast')['avg_num_friends'].mean()"
     ],
     "language": "python",
     "metadata": {},
     "outputs": [
      {
       "metadata": {},
       "output_type": "pyout",
       "prompt_number": 16,
       "text": [
        "coast\n",
        "east coast    8.3\n",
        "west coast    7.0\n",
        "Name: avg_num_friends, dtype: float64"
       ]
      }
     ],
     "prompt_number": 16
    },
    {
     "cell_type": "code",
     "collapsed": false,
     "input": [
      "(3.1*35+10.9*66)/101 # ~= 8.2\n",
      "(3.2*70+13.4*33)/103 # ~= 6.5\n",
      "# how do you do that in pandas?\n",
      "# this might have the answer: http://stackoverflow.com/questions/21295596/pandas-groupby-and-variable-weights"
     ],
     "language": "python",
     "metadata": {},
     "outputs": [
      {
       "metadata": {},
       "output_type": "pyout",
       "prompt_number": 20,
       "text": [
        "6.4679611650485445"
       ]
      }
     ],
     "prompt_number": 20
    }
   ],
   "metadata": {}
  }
 ]
}