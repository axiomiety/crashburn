{
 "cells": [
  {
   "cell_type": "markdown",
   "metadata": {},
   "source": [
    "# Yield curve construction\n",
    "\n",
    "Yield curves are one of the corner stones of instrument pricing - they're used to discount cashflows among other things. The two curves of interest are the zero curve - which essentially tells you how much interest a lump sum invested today would bring in 1 week, 1 month, 1 year etc... and the forward curve - which tells you how much interest you would get by investing your lump sum, say, 6 months from today for a duration of a year (!).\n",
    "\n",
    "The forward curve will be derived from the zero curve - which is our first step.\n",
    "\n",
    "## Building the zero and forward curves with par swap yields\n",
    "\n",
    "An interest rate swap is an agreement to swap a series of fixed cashflows for floating ones - in a way we're trading certainty for incertainty. A par swap is one that trades at the face value of the notional. The yield (or return) on those is directly observable in the market.\n",
    "\n",
    "Let's suppose we have the following yields for swaps that mature at 6m intervals from today (that's a bit far fetched in practice but let's assume we can).\n",
    "\n",
    "| Term | 0.5 | 1.0 | 1.5 | 2.0 | 2.5 | 3.0 | 3.5 |\n",
    "|----|:---:|:---:|:---:|:---:|:---:|:---:|:---:|\n",
    "| Yield | 4.25%  | 5% | 5.55% | 6% | 6.5% | 7% | 7.5% |\n",
    "\n",
    "Terms as expressed as fraction of a year. So the yield for a swap maturing in 18 months (1.5 years) is 5.55%. Note the yields are quoted yearly.\n",
    "\n",
    "Plotting term against yield we get:\n"
   ]
  },
  {
   "cell_type": "code",
   "execution_count": 2,
   "metadata": {
    "collapsed": false
   },
   "outputs": [
    {
     "data": {
      "text/plain": [
       "[<matplotlib.lines.Line2D at 0x1c49ed44358>]"
      ]
     },
     "execution_count": 2,
     "metadata": {},
     "output_type": "execute_result"
    },
    {
     "data": {
      "image/png": "[encoded data removed]",
      "text/plain": [
       "<matplotlib.figure.Figure at 0x1c4a3e096d8>"
      ]
     },
     "metadata": {},
     "output_type": "display_data"
    }
   ],
   "source": [
    "import pandas as pd\n",
    "import numpy as np\n",
    "\n",
    "swap_df = pd.DataFrame({'term': [0.5,1.0,1.5,2.0,2.5,3,3.5],\n",
    "                        'yield': [0.0425,0.05,0.055,0.06,0.065,0.07,0.075]})\n",
    "\n",
    "%matplotlib inline\n",
    "import matplotlib.pyplot as plt\n",
    "plt.plot(swap_df['term'], swap_df['yield'])"
   ]
  },
  {
   "cell_type": "markdown",
   "metadata": {},
   "source": [
    "In order to build the zero curve we need to back out the discount factors. In a nutshell the discount factor is what we multiply a future cashflow by to have its value today (i.e. present value).\n",
    "\n",
    "### Discount factors\n",
    "\n",
    "The swaps in question pay semi-annually - so the swap maturing in 6 months only has one cashflow. We know it's price at par. Assuming notional is 100 it will pay $100 + 100\\frac{4.25%}{2}= 102.125$ in 6 months' time. That means the present value of 102.125 is 100. The discount factor for 6 months, $df_{0.5}$, is therefore $\\frac{100}{102.125} = 0.979192$.\n",
    "\n",
    "Next we need to do this for one year. The coupon is $100\\frac{5%}{2} = 2.5$. The cashflow is therefore $2.5 + 102.25$. Using a similar method as above, we have $100 = df_{0.5}2.5 + df_{1.0}102.5$. We already know what $df_{0.5}$ is so re-arranging we get $df_{1.0} = \\frac{100-df_{0.5}2.5}{102.5} = 0.951727$.\n",
    "\n",
    "We then repeat this procedure for every swap to yield subsequent discount factors. It might look a little cumbersome as such but there's a much easier way to back those out.\n",
    "\n",
    "We start by creating a matrix of cashflows, with the columns representing the term. Not all swaps will have a cashflow for all terms. Indeed we get a triangular matrix:"
   ]
  },
  {
   "cell_type": "code",
   "execution_count": 3,
   "metadata": {
    "collapsed": false
   },
   "outputs": [
    {
     "data": {
      "text/plain": [
       "[[102.125, 0, 0, 0, 0, 0, 0],\n",
       " [2.5, 102.5, 0, 0, 0, 0, 0],\n",
       " [2.75, 2.75, 102.75, 0, 0, 0, 0],\n",
       " [3.0, 3.0, 3.0, 103.0, 0, 0, 0],\n",
       " [3.25, 3.25, 3.25, 3.25, 103.25, 0, 0],\n",
       " [3.5000000000000004,\n",
       "  3.5000000000000004,\n",
       "  3.5000000000000004,\n",
       "  3.5000000000000004,\n",
       "  3.5000000000000004,\n",
       "  103.5,\n",
       "  0],\n",
       " [3.75, 3.75, 3.75, 3.75, 3.75, 3.75, 103.75]]"
      ]
     },
     "execution_count": 3,
     "metadata": {},
     "output_type": "execute_result"
    }
   ],
   "source": [
    "# create a linear system for each swap based on its cashflow\n",
    "cpn_freq = 2 # semi-annual\n",
    "notional = 100\n",
    "terms = swap_df['term'].values\n",
    "cashflows = []\n",
    "for _, row in swap_df.iterrows():\n",
    "    coupon = row['yield']/2*notional\n",
    "    stream = []\n",
    "    for term in terms:\n",
    "        stream.append(coupon + notional if row['term'] == term else coupon if term < row['term'] else 0)\n",
    "    cashflows.append(stream)\n",
    "cashflows"
   ]
  },
  {
   "cell_type": "markdown",
   "metadata": {},
   "source": [
    "Giving us a system of linear equations:\n",
    "\n",
    "$\\begin{bmatrix}\n",
    "100 \\\\\n",
    "100 \\\\\n",
    "\\vdots \\\\\n",
    "100\n",
    "\\end{bmatrix}\n",
    "$\n",
    "$\n",
    "=\n",
    "\\begin{bmatrix}\n",
    "102.125 & 0 & 0 & 0 & 0 & 0 & 0 \\\\\n",
    "2.5 & 102.5 & 0 & 0 & 0 & 0 & 0 \\\\\n",
    "\\ddots & \\vdots & \\vdots & \\vdots & \\vdots & \\vdots & \\vdots \\\\\n",
    "3.75 & 3.75 & 3.75 & 3.75 & 3.75 & 3.75 & 103.75\n",
    "\\end{bmatrix}\n",
    "\\begin{bmatrix}\n",
    "df_{0.5} \\\\\n",
    "df_{1.0} \\\\\n",
    "\\vdots \\\\\n",
    "df_{3.5}\n",
    "\\end{bmatrix}\n",
    "$\n",
    "\n",
    "Which one might solve via substitution (what we did above) or Gaussian elimination. For this we'll simply use `numpy`'s `linalg` module:"
   ]
  },
  {
   "cell_type": "code",
   "execution_count": 76,
   "metadata": {
    "collapsed": false
   },
   "outputs": [
    {
     "name": "stdout",
     "output_type": "stream",
     "text": [
      "[ 0.97919217  0.95172702  0.92155691  0.88779196  0.85079059  0.81093038\n",
      "  0.76860281]\n"
     ]
    },
    {
     "data": {
      "text/html": [
       "<div>\n",
       "<table border=\"1\" class=\"dataframe\">\n",
       "  <thead>\n",
       "    <tr style=\"text-align: right;\">\n",
       "      <th></th>\n",
       "      <th>term</th>\n",
       "      <th>yield</th>\n",
       "      <th>discount_factor</th>\n",
       "      <th>zero_coupon_rate</th>\n",
       "      <th>zero_rate</th>\n",
       "      <th>forward_rates</th>\n",
       "      <th>forward_rate</th>\n",
       "    </tr>\n",
       "  </thead>\n",
       "  <tbody>\n",
       "    <tr>\n",
       "      <th>0</th>\n",
       "      <td>0.5</td>\n",
       "      <td>0.0425</td>\n",
       "      <td>0.979192</td>\n",
       "      <td>0.042055</td>\n",
       "      <td>0.042055</td>\n",
       "      <td>0.042055</td>\n",
       "      <td>0.042055</td>\n",
       "    </tr>\n",
       "    <tr>\n",
       "      <th>1</th>\n",
       "      <td>1.0</td>\n",
       "      <td>0.0500</td>\n",
       "      <td>0.951727</td>\n",
       "      <td>0.049477</td>\n",
       "      <td>0.049477</td>\n",
       "      <td>0.056899</td>\n",
       "      <td>0.056899</td>\n",
       "    </tr>\n",
       "    <tr>\n",
       "      <th>2</th>\n",
       "      <td>1.5</td>\n",
       "      <td>0.0550</td>\n",
       "      <td>0.921557</td>\n",
       "      <td>0.054460</td>\n",
       "      <td>0.054460</td>\n",
       "      <td>0.064427</td>\n",
       "      <td>0.064427</td>\n",
       "    </tr>\n",
       "    <tr>\n",
       "      <th>3</th>\n",
       "      <td>2.0</td>\n",
       "      <td>0.0600</td>\n",
       "      <td>0.887792</td>\n",
       "      <td>0.059509</td>\n",
       "      <td>0.059509</td>\n",
       "      <td>0.074654</td>\n",
       "      <td>0.074654</td>\n",
       "    </tr>\n",
       "    <tr>\n",
       "      <th>4</th>\n",
       "      <td>2.5</td>\n",
       "      <td>0.0650</td>\n",
       "      <td>0.850791</td>\n",
       "      <td>0.064636</td>\n",
       "      <td>0.064636</td>\n",
       "      <td>0.085143</td>\n",
       "      <td>0.085143</td>\n",
       "    </tr>\n",
       "    <tr>\n",
       "      <th>5</th>\n",
       "      <td>3.0</td>\n",
       "      <td>0.0700</td>\n",
       "      <td>0.810930</td>\n",
       "      <td>0.069858</td>\n",
       "      <td>0.069858</td>\n",
       "      <td>0.095968</td>\n",
       "      <td>0.095968</td>\n",
       "    </tr>\n",
       "    <tr>\n",
       "      <th>6</th>\n",
       "      <td>3.5</td>\n",
       "      <td>0.0750</td>\n",
       "      <td>0.768603</td>\n",
       "      <td>0.075195</td>\n",
       "      <td>0.075195</td>\n",
       "      <td>0.107216</td>\n",
       "      <td>0.107216</td>\n",
       "    </tr>\n",
       "  </tbody>\n",
       "</table>\n",
       "</div>"
      ],
      "text/plain": [
       "   term   yield  discount_factor  zero_coupon_rate  zero_rate  forward_rates  \\\n",
       "0   0.5  0.0425         0.979192          0.042055   0.042055       0.042055   \n",
       "1   1.0  0.0500         0.951727          0.049477   0.049477       0.056899   \n",
       "2   1.5  0.0550         0.921557          0.054460   0.054460       0.064427   \n",
       "3   2.0  0.0600         0.887792          0.059509   0.059509       0.074654   \n",
       "4   2.5  0.0650         0.850791          0.064636   0.064636       0.085143   \n",
       "5   3.0  0.0700         0.810930          0.069858   0.069858       0.095968   \n",
       "6   3.5  0.0750         0.768603          0.075195   0.075195       0.107216   \n",
       "\n",
       "   forward_rate  \n",
       "0      0.042055  \n",
       "1      0.056899  \n",
       "2      0.064427  \n",
       "3      0.074654  \n",
       "4      0.085143  \n",
       "5      0.095968  \n",
       "6      0.107216  "
      ]
     },
     "execution_count": 76,
     "metadata": {},
     "output_type": "execute_result"
    }
   ],
   "source": [
    "m = np.matrix(cashflows)\n",
    "# swaps are at par so they're worth their face values\n",
    "d = [100]*len(terms)\n",
    "discount_factors = np.linalg.solve(m,d)\n",
    "print(discount_factors)\n",
    "swap_df['discount_factor'] = discount_factors\n",
    "swap_df"
   ]
  },
  {
   "cell_type": "markdown",
   "metadata": {},
   "source": [
    "The first two discount factors match the ones we derived manually.\n",
    "\n",
    "### Spot rates\n",
    "\n",
    "Now that we have the discount factors, we can use those to determine the zero/spot rates (the continuously compounded interest rates). The relationship between discount factor and zero rate is $df_{t} = e^{-rt}$. Rearranging we get $ r = -\\frac{ln(df)}{t}$. More details are available [here](https://en.wikipedia.org/wiki/Discounting#Discount_factor)."
   ]
  },
  {
   "cell_type": "code",
   "execution_count": 42,
   "metadata": {
    "collapsed": false
   },
   "outputs": [
    {
     "name": "stdout",
     "output_type": "stream",
     "text": [
      "0.0420550743842\n"
     ]
    },
    {
     "data": {
      "text/html": [
       "<div>\n",
       "<table border=\"1\" class=\"dataframe\">\n",
       "  <thead>\n",
       "    <tr style=\"text-align: right;\">\n",
       "      <th></th>\n",
       "      <th>term</th>\n",
       "      <th>yield</th>\n",
       "      <th>discount_factor</th>\n",
       "      <th>zero_coupon_rate</th>\n",
       "      <th>zero_rate</th>\n",
       "    </tr>\n",
       "  </thead>\n",
       "  <tbody>\n",
       "    <tr>\n",
       "      <th>0</th>\n",
       "      <td>0.5</td>\n",
       "      <td>0.0425</td>\n",
       "      <td>0.979192</td>\n",
       "      <td>0.042055</td>\n",
       "      <td>0.042055</td>\n",
       "    </tr>\n",
       "    <tr>\n",
       "      <th>1</th>\n",
       "      <td>1.0</td>\n",
       "      <td>0.0500</td>\n",
       "      <td>0.951727</td>\n",
       "      <td>0.049477</td>\n",
       "      <td>0.049477</td>\n",
       "    </tr>\n",
       "    <tr>\n",
       "      <th>2</th>\n",
       "      <td>1.5</td>\n",
       "      <td>0.0550</td>\n",
       "      <td>0.921557</td>\n",
       "      <td>0.054460</td>\n",
       "      <td>0.054460</td>\n",
       "    </tr>\n",
       "    <tr>\n",
       "      <th>3</th>\n",
       "      <td>2.0</td>\n",
       "      <td>0.0600</td>\n",
       "      <td>0.887792</td>\n",
       "      <td>0.059509</td>\n",
       "      <td>0.059509</td>\n",
       "    </tr>\n",
       "    <tr>\n",
       "      <th>4</th>\n",
       "      <td>2.5</td>\n",
       "      <td>0.0650</td>\n",
       "      <td>0.850791</td>\n",
       "      <td>0.064636</td>\n",
       "      <td>0.064636</td>\n",
       "    </tr>\n",
       "    <tr>\n",
       "      <th>5</th>\n",
       "      <td>3.0</td>\n",
       "      <td>0.0700</td>\n",
       "      <td>0.810930</td>\n",
       "      <td>0.069858</td>\n",
       "      <td>0.069858</td>\n",
       "    </tr>\n",
       "    <tr>\n",
       "      <th>6</th>\n",
       "      <td>3.5</td>\n",
       "      <td>0.0750</td>\n",
       "      <td>0.768603</td>\n",
       "      <td>0.075195</td>\n",
       "      <td>0.075195</td>\n",
       "    </tr>\n",
       "  </tbody>\n",
       "</table>\n",
       "</div>"
      ],
      "text/plain": [
       "   term   yield  discount_factor  zero_coupon_rate  zero_rate\n",
       "0   0.5  0.0425         0.979192          0.042055   0.042055\n",
       "1   1.0  0.0500         0.951727          0.049477   0.049477\n",
       "2   1.5  0.0550         0.921557          0.054460   0.054460\n",
       "3   2.0  0.0600         0.887792          0.059509   0.059509\n",
       "4   2.5  0.0650         0.850791          0.064636   0.064636\n",
       "5   3.0  0.0700         0.810930          0.069858   0.069858\n",
       "6   3.5  0.0750         0.768603          0.075195   0.075195"
      ]
     },
     "execution_count": 42,
     "metadata": {},
     "output_type": "execute_result"
    }
   ],
   "source": [
    "# converting df to continuously compounded rate\n",
    "def zcp_rt(df,term): return -np.log(df)/term\n",
    "print(zcp_rt(0.979192,0.5))\n",
    "\n",
    "swap_df['zero_rate'] = swap_df.apply(lambda row: -np.log(row['discount_factor'])/row['term'], axis=1)\n",
    "swap_df"
   ]
  },
  {
   "cell_type": "markdown",
   "metadata": {},
   "source": [
    "Note though they are close, the zero rates do *not* match the par swap yields, and that's expected. We can now plot the two together:"
   ]
  },
  {
   "cell_type": "code",
   "execution_count": 11,
   "metadata": {
    "collapsed": false
   },
   "outputs": [
    {
     "data": {
      "text/plain": [
       "[<matplotlib.lines.Line2D at 0x1c4a43b5278>]"
      ]
     },
     "execution_count": 11,
     "metadata": {},
     "output_type": "execute_result"
    },
    {
     "data": {
      "image/png": "[encoded data removed]",
      "text/plain": [
       "<matplotlib.figure.Figure at 0x1c4a43b5320>"
      ]
     },
     "metadata": {},
     "output_type": "display_data"
    }
   ],
   "source": [
    "plt.plot(swap_df['term'], swap_df['yield'])\n",
    "plt.plot(swap_df['term'], swap_df['zero_rate'], color='orange')"
   ]
  },
  {
   "cell_type": "markdown",
   "metadata": {},
   "source": [
    "### Forward rates\n",
    "\n",
    "Now that we have the the zero rates we can derive the forward rates for each tenor. Imagine we wanted to invest a lump sum for 6 months. After 6 months we would have earnt some interest. If we were to leave that for another 6 months it should be no different from having left it for a full year. In other words we have $(1+r_{0,1}) = (1+r_{0,0.5})^{\\frac{1}{2}}(1+r_{0.5,1})^{\\frac{1}{2}}$. The forward rate is $r_{0.5,1}$ and is therefore $(\\frac{1+r_{0,1}}{(1+r_{0,0.5})^\\frac{1}{2}})^2-1$.\n",
    "\n",
    "Just like spot rates, we can extend this to derive $r_{1,1.5}$ etc... There is however a simpler way - we can use the discount factors as described [here](https://en.wikipedia.org/wiki/Forward_rate) (we're using continuous compounding).\n",
    "\n",
    "This means $r_{0.5,1} = \\frac{1}{1-0.5}(ln(df_{0,0.5})-ln(df_{0,1}))$. Extending this, we get:"
   ]
  },
  {
   "cell_type": "code",
   "execution_count": 50,
   "metadata": {
    "collapsed": false
   },
   "outputs": [
    {
     "name": "stdout",
     "output_type": "stream",
     "text": [
      "[0.056899322936167368, 0.064427439853726357, 0.074654191816282467, 0.08514281343316063, 0.095967634256893863, 0.1072157631229993]\n",
      "   term   yield  discount_factor  zero_coupon_rate  zero_rate  forward_rates  \\\n",
      "0   0.5  0.0425         0.979192          0.042055   0.042055       0.042055   \n",
      "1   1.0  0.0500         0.951727          0.049477   0.049477       0.056899   \n",
      "2   1.5  0.0550         0.921557          0.054460   0.054460       0.064427   \n",
      "3   2.0  0.0600         0.887792          0.059509   0.059509       0.074654   \n",
      "4   2.5  0.0650         0.850791          0.064636   0.064636       0.085143   \n",
      "5   3.0  0.0700         0.810930          0.069858   0.069858       0.095968   \n",
      "6   3.5  0.0750         0.768603          0.075195   0.075195       0.107216   \n",
      "\n",
      "   forward_rate  \n",
      "0      0.042055  \n",
      "1      0.056899  \n",
      "2      0.064427  \n",
      "3      0.074654  \n",
      "4      0.085143  \n",
      "5      0.095968  \n",
      "6      0.107216  \n"
     ]
    },
    {
     "data": {
      "text/plain": [
       "[<matplotlib.lines.Line2D at 0x1c4a48f8438>]"
      ]
     },
     "execution_count": 50,
     "metadata": {},
     "output_type": "execute_result"
    },
    {
     "data": {
      "image/png": "[encoded data removed]",
      "text/plain": [
       "<matplotlib.figure.Figure at 0x1c4a46929e8>"
      ]
     },
     "metadata": {},
     "output_type": "display_data"
    }
   ],
   "source": [
    "fwd_rates = []\n",
    "for df_a, df_b in zip(swap_df['discount_factor'][:-1], swap_df['discount_factor'].shift(-1)):\n",
    "    fwd_rates.append(2*(np.log(df_a) - np.log(df_b)))\n",
    "print(fwd_rates)\n",
    "swap_df['forward_rate'] = [swap_df['zero_rate'].values[0]] + fwd_rates\n",
    "print(swap_df)\n",
    "plt.plot(swap_df['term'], swap_df['yield'])\n",
    "plt.plot(swap_df['term'], swap_df['zero_rate'], color='orange')\n",
    "plt.plot(swap_df['term'], swap_df['forward_rate'], color='red')"
   ]
  },
  {
   "cell_type": "markdown",
   "metadata": {},
   "source": [
    "### Validating the curve\n",
    "\n",
    "Just like we can go from par swap yields to discount factors, we can go the other way too. Recall that for a par swap, the sum of the floating cashflows is equivalent to that of the fixed ones.\n",
    "\n",
    "In other words we have $\\frac{C_{yearly}}{freq}\\sum_{i=1}^{n}df_{i} + df_{n}N = N$ which we can rewrite as $C_{yearly} = freq\\frac{1-df_{n}}{\\sum_{i=1}^{n}df_{i}}$.\n",
    "\n",
    "Let's see if we can match our original values:"
   ]
  },
  {
   "cell_type": "code",
   "execution_count": 75,
   "metadata": {
    "collapsed": false
   },
   "outputs": [
    {
     "name": "stdout",
     "output_type": "stream",
     "text": [
      "idx: 0, backed out yield: 0.0425, original yield: 0.0425\n",
      "idx: 1, backed out yield: 0.0500, original yield: 0.05\n",
      "idx: 2, backed out yield: 0.0550, original yield: 0.055\n",
      "idx: 3, backed out yield: 0.0600, original yield: 0.06\n",
      "idx: 4, backed out yield: 0.0650, original yield: 0.065\n",
      "idx: 5, backed out yield: 0.0700, original yield: 0.07\n",
      "idx: 6, backed out yield: 0.0750, original yield: 0.075\n"
     ]
    }
   ],
   "source": [
    "dfs = swap_df['discount_factor'].values\n",
    "#print(type(dfs))\n",
    "freq = 2\n",
    "for i in range(len(dfs)):\n",
    "    by = 2*(1-dfs[i])/sum(dfs[:i+1]) \n",
    "    print('idx: {idx}, backed out yield: {by:.4f}, original yield: {oy}'.format(idx=i, by=by, oy=swap_df.iloc[i]['yield']))\n"
   ]
  },
  {
   "cell_type": "markdown",
   "metadata": {},
   "source": [
    "Success! Our curve is therefore consistent with its inputs.\n",
    "\n",
    "### Conclusion\n",
    "\n",
    "From par swap yields we managed to extract both spot and forward rates - both of which are essential to valuing a number of financial instruments (such as swaps!).\n",
    "\n",
    "There are a number of caveats in practice, such as not having coupon dates lining up, but the overal logic should be roughly the same."
   ]
  }
 ],
 "metadata": {
  "kernelspec": {
   "display_name": "Python 3",
   "language": "python",
   "name": "python3"
  },
  "language_info": {
   "codemirror_mode": {
    "name": "ipython",
    "version": 3
   },
   "file_extension": ".py",
   "mimetype": "text/x-python",
   "name": "python",
   "nbconvert_exporter": "python",
   "pygments_lexer": "ipython3",
   "version": "3.6.0"
  }
 },
 "nbformat": 4,
 "nbformat_minor": 2
}
