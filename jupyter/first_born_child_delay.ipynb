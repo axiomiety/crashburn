{
 "cells": [
  {
   "cell_type": "markdown",
   "metadata": {},
   "source": [
    "The question we're trying to answer is whether the first child  is more likely to be go over its due date. \n",
    "\n",
    "## Dataset\n",
    "\n",
    "We will be leveraging the National Survey of Family Growth - Cycle 6 (2002) available on the [Center for Disease Control and Prevention's website](https://www.cdc.gov/nchs/nsfg/nsfg_cycle6.htm). It contains a wealth of information regarding women and pregnancies.\n",
    "\n",
    "For this we will be looking `2002FemPreg.dat` file available from the above. Meanings for each of the columns/values is described in the [codebook](ftp://ftp.cdc.gov/pub/Health_Statistics/NCHS/Dataset_Documentation/NSFG/Cycle6Codebook-Pregnancy.pdf).\n",
    "\n",
    "### Parsing\n",
    "\n",
    "The `dat` file is a fixed-width file. In order to make sense of this we need to know how large each field is and what it represents. We'll take a stab at parsing this using the associated [STATA dictionary](ftp://ftp.cdc.gov/pub/Health_Statistics/NCHS/Datasets/NSFG/stata/2002FemPreg.dct). "
   ]
  },
  {
   "cell_type": "markdown",
   "metadata": {},
   "source": [
    "#### DAT\n",
    "```\n",
    "           1 1     6 1     11093 1084     9 039 9   0  1 813             1093 13837                        1                5                                                                        116610931166 9201093                111             3    1   12  11         5391 110933316108432411211     2995 1212 69544441116122222 2 2224693215    000000000000000000000000000000000000003410.38939935294273869.3496019830486 6448.2711117047512 91231\n",
    "           1 2     6 1     11166 1157     9 039 9   0  2 714             1166  6542112  2  05 1 4  5       51               1   41  4  201 20                                                        1166109311661093116611661231        111             3    1   14  11         5391 211663925115738501211 2 432 8701414 69544441116122222 2 2224693215    000000000000000000000000000000000000003410.38939935294273869.3496019830486 6448.2711117047512 91231\n",
    "           ...\n",
    "```\n",
    "\n",
    "#### DCT \n",
    "```\n",
    "infile dictionary {\n",
    "    _column(1)      str12                             caseid  %12s  \"RESPONDENT ID NUMBER\"\n",
    "   _column(13)       byte                           pregordr   %2f  \"PREGNANCY ORDER (NUMBER)\"\n",
    "   _column(15)       byte                          howpreg_n   %2f  \"BB-2 # OF WEEKS OR MONTHS CURRENTLY PREGNANT\"\n",
    "   _column(17)       byte                          howpreg_p   %1f  \"BB-2 CURRENT PREGNANCY LENGTH REPORTED IN MONTHS OR WEEKS\"\n",
    "...\n",
    "```"
   ]
  },
  {
   "cell_type": "markdown",
   "metadata": {},
   "source": [
    "We want to extract the 3rd and 4th column - the 3rd giving us the column name and the 4th the size of the input (which essentially tells us the number of characters)."
   ]
  },
  {
   "cell_type": "code",
   "execution_count": 20,
   "metadata": {
    "collapsed": false
   },
   "outputs": [
    {
     "name": "stdout",
     "output_type": "stream",
     "text": [
      "[('caseid', 12), ('pregordr', 2), ('howpreg_n', 2), ('howpreg_p', 1), ('moscurrp', 1)]\n"
     ]
    }
   ],
   "source": [
    "with open(r'2002FemPreg.dct') as f:\n",
    "    infile = f.readline()\n",
    "    col_dat = []\n",
    "    for line in f.readlines():\n",
    "        d = line.split()\n",
    "        if d[0].startswith('_column'):\n",
    "            col_dat.append((d[2],int(d[3][1:-1]))) # we want the name and the numerical portion of the format string\n",
    "print(col_dat[:5])"
   ]
  },
  {
   "cell_type": "markdown",
   "metadata": {},
   "source": [
    "`pandas` has a `read_fwf` method which we will leverage. It needs a list of widths and names for each column."
   ]
  },
  {
   "cell_type": "code",
   "execution_count": 22,
   "metadata": {
    "collapsed": false
   },
   "outputs": [],
   "source": [
    "import pandas as pd\n",
    "df = pd.read_fwf(r'2002FemPreg.dat', widths=[w for n,w in col_dat], names=[n for n,w in col_dat])"
   ]
  },
  {
   "cell_type": "code",
   "execution_count": 23,
   "metadata": {
    "collapsed": false
   },
   "outputs": [
    {
     "data": {
      "text/html": [
       "<div>\n",
       "<table border=\"1\" class=\"dataframe\">\n",
       "  <thead>\n",
       "    <tr style=\"text-align: right;\">\n",
       "      <th></th>\n",
       "      <th>caseid</th>\n",
       "      <th>pregordr</th>\n",
       "      <th>howpreg_n</th>\n",
       "      <th>howpreg_p</th>\n",
       "      <th>moscurrp</th>\n",
       "      <th>nowprgdk</th>\n",
       "      <th>pregend1</th>\n",
       "      <th>pregend2</th>\n",
       "      <th>nbrnaliv</th>\n",
       "      <th>multbrth</th>\n",
       "      <th>...</th>\n",
       "      <th>poverty_i</th>\n",
       "      <th>laborfor_i</th>\n",
       "      <th>religion_i</th>\n",
       "      <th>metro_i</th>\n",
       "      <th>basewgt</th>\n",
       "      <th>adj_mod_basewgt</th>\n",
       "      <th>finalwgt</th>\n",
       "      <th>secu_p</th>\n",
       "      <th>sest</th>\n",
       "      <th>cmintvw</th>\n",
       "    </tr>\n",
       "  </thead>\n",
       "  <tbody>\n",
       "    <tr>\n",
       "      <th>0</th>\n",
       "      <td>1</td>\n",
       "      <td>1</td>\n",
       "      <td>NaN</td>\n",
       "      <td>NaN</td>\n",
       "      <td>NaN</td>\n",
       "      <td>NaN</td>\n",
       "      <td>6.0</td>\n",
       "      <td>NaN</td>\n",
       "      <td>1.0</td>\n",
       "      <td>NaN</td>\n",
       "      <td>...</td>\n",
       "      <td>0</td>\n",
       "      <td>0</td>\n",
       "      <td>0</td>\n",
       "      <td>0</td>\n",
       "      <td>3410.389399</td>\n",
       "      <td>3869.349602</td>\n",
       "      <td>6448.271112</td>\n",
       "      <td>2</td>\n",
       "      <td>9</td>\n",
       "      <td>1231</td>\n",
       "    </tr>\n",
       "    <tr>\n",
       "      <th>1</th>\n",
       "      <td>1</td>\n",
       "      <td>2</td>\n",
       "      <td>NaN</td>\n",
       "      <td>NaN</td>\n",
       "      <td>NaN</td>\n",
       "      <td>NaN</td>\n",
       "      <td>6.0</td>\n",
       "      <td>NaN</td>\n",
       "      <td>1.0</td>\n",
       "      <td>NaN</td>\n",
       "      <td>...</td>\n",
       "      <td>0</td>\n",
       "      <td>0</td>\n",
       "      <td>0</td>\n",
       "      <td>0</td>\n",
       "      <td>3410.389399</td>\n",
       "      <td>3869.349602</td>\n",
       "      <td>6448.271112</td>\n",
       "      <td>2</td>\n",
       "      <td>9</td>\n",
       "      <td>1231</td>\n",
       "    </tr>\n",
       "    <tr>\n",
       "      <th>2</th>\n",
       "      <td>2</td>\n",
       "      <td>1</td>\n",
       "      <td>NaN</td>\n",
       "      <td>NaN</td>\n",
       "      <td>NaN</td>\n",
       "      <td>NaN</td>\n",
       "      <td>5.0</td>\n",
       "      <td>NaN</td>\n",
       "      <td>3.0</td>\n",
       "      <td>5.0</td>\n",
       "      <td>...</td>\n",
       "      <td>0</td>\n",
       "      <td>0</td>\n",
       "      <td>0</td>\n",
       "      <td>0</td>\n",
       "      <td>7226.301740</td>\n",
       "      <td>8567.549110</td>\n",
       "      <td>12999.542264</td>\n",
       "      <td>2</td>\n",
       "      <td>12</td>\n",
       "      <td>1231</td>\n",
       "    </tr>\n",
       "    <tr>\n",
       "      <th>3</th>\n",
       "      <td>2</td>\n",
       "      <td>2</td>\n",
       "      <td>NaN</td>\n",
       "      <td>NaN</td>\n",
       "      <td>NaN</td>\n",
       "      <td>NaN</td>\n",
       "      <td>6.0</td>\n",
       "      <td>NaN</td>\n",
       "      <td>1.0</td>\n",
       "      <td>NaN</td>\n",
       "      <td>...</td>\n",
       "      <td>0</td>\n",
       "      <td>0</td>\n",
       "      <td>0</td>\n",
       "      <td>0</td>\n",
       "      <td>7226.301740</td>\n",
       "      <td>8567.549110</td>\n",
       "      <td>12999.542264</td>\n",
       "      <td>2</td>\n",
       "      <td>12</td>\n",
       "      <td>1231</td>\n",
       "    </tr>\n",
       "    <tr>\n",
       "      <th>4</th>\n",
       "      <td>2</td>\n",
       "      <td>3</td>\n",
       "      <td>NaN</td>\n",
       "      <td>NaN</td>\n",
       "      <td>NaN</td>\n",
       "      <td>NaN</td>\n",
       "      <td>6.0</td>\n",
       "      <td>NaN</td>\n",
       "      <td>1.0</td>\n",
       "      <td>NaN</td>\n",
       "      <td>...</td>\n",
       "      <td>0</td>\n",
       "      <td>0</td>\n",
       "      <td>0</td>\n",
       "      <td>0</td>\n",
       "      <td>7226.301740</td>\n",
       "      <td>8567.549110</td>\n",
       "      <td>12999.542264</td>\n",
       "      <td>2</td>\n",
       "      <td>12</td>\n",
       "      <td>1231</td>\n",
       "    </tr>\n",
       "  </tbody>\n",
       "</table>\n",
       "<p>5 rows × 243 columns</p>\n",
       "</div>"
      ],
      "text/plain": [
       "   caseid  pregordr  howpreg_n  howpreg_p  moscurrp  nowprgdk  pregend1  \\\n",
       "0       1         1        NaN        NaN       NaN       NaN       6.0   \n",
       "1       1         2        NaN        NaN       NaN       NaN       6.0   \n",
       "2       2         1        NaN        NaN       NaN       NaN       5.0   \n",
       "3       2         2        NaN        NaN       NaN       NaN       6.0   \n",
       "4       2         3        NaN        NaN       NaN       NaN       6.0   \n",
       "\n",
       "   pregend2  nbrnaliv  multbrth   ...     poverty_i  laborfor_i  religion_i  \\\n",
       "0       NaN       1.0       NaN   ...             0           0           0   \n",
       "1       NaN       1.0       NaN   ...             0           0           0   \n",
       "2       NaN       3.0       5.0   ...             0           0           0   \n",
       "3       NaN       1.0       NaN   ...             0           0           0   \n",
       "4       NaN       1.0       NaN   ...             0           0           0   \n",
       "\n",
       "   metro_i      basewgt  adj_mod_basewgt      finalwgt  secu_p  sest  cmintvw  \n",
       "0        0  3410.389399      3869.349602   6448.271112       2     9     1231  \n",
       "1        0  3410.389399      3869.349602   6448.271112       2     9     1231  \n",
       "2        0  7226.301740      8567.549110  12999.542264       2    12     1231  \n",
       "3        0  7226.301740      8567.549110  12999.542264       2    12     1231  \n",
       "4        0  7226.301740      8567.549110  12999.542264       2    12     1231  \n",
       "\n",
       "[5 rows x 243 columns]"
      ]
     },
     "execution_count": 23,
     "metadata": {},
     "output_type": "execute_result"
    }
   ],
   "source": [
    "df.head()"
   ]
  },
  {
   "cell_type": "markdown",
   "metadata": {},
   "source": [
    "### Data selection\n",
    "\n",
    "We'll filter on the below and reference the codebook for:\n",
    "   * Single pregnancy (twins or more will be ignored)\n",
    "   * Live birth\n",
    "   * First successful pregnancy\n",
    "   \n",
    "Unfortunately we can't tell which were induced/elective c-section (some parents do like to choose when their children will be born - certainly in Asia), but that should hopefully be a small percentage."
   ]
  },
  {
   "cell_type": "code",
   "execution_count": 41,
   "metadata": {
    "collapsed": false
   },
   "outputs": [
    {
     "data": {
      "text/plain": [
       "4368"
      ]
     },
     "execution_count": 41,
     "metadata": {},
     "output_type": "execute_result"
    }
   ],
   "source": [
    "import numpy as np\n",
    "# filter on 1st, live, single births\n",
    "fdf = df[df['pregend1'].isin([5,6]) & ((df['multbrth'] == 5) | df['multbrth'].isnull()) & (df['birthord'] == 1)]\n",
    "len(fdf)"
   ]
  },
  {
   "cell_type": "markdown",
   "metadata": {},
   "source": [
    "So we have 4368 data points. Let's find out what the gestation period of those babies were and display that in a histogram.\n",
    "\n",
    "## Analysis\n",
    "\n",
    "First we need to clean the data up (again...). We're excluding any NaN and gestation period outside of the [20,54] weeks range. Let's plot a histogram with a bin for each week to try and better understand the birth distribution."
   ]
  },
  {
   "cell_type": "code",
   "execution_count": 79,
   "metadata": {
    "collapsed": false
   },
   "outputs": [
    {
     "name": "stdout",
     "output_type": "stream",
     "text": [
      "4347\n",
      "39.0    2143\n",
      "40.0     535\n",
      "41.0     360\n",
      "38.0     248\n",
      "42.0     207\n",
      "Name: wksgest, dtype: int64\n"
     ]
    },
    {
     "data": {
      "image/png": "[encoded data removed]",
      "text/plain": [
       "<matplotlib.figure.Figure at 0x2db35386a58>"
      ]
     },
     "metadata": {},
     "output_type": "display_data"
    }
   ],
   "source": [
    "%matplotlib inline\n",
    "import matplotlib.pyplot as plt\n",
    "data = fdf.wksgest[(fdf.wksgest > 20) & (fdf.wksgest < 54)]\n",
    "data.dropna()\n",
    "print(len(data))\n",
    "numbins = int(max(data)-min(data))\n",
    "plt.hist(data, bins=numbins)\n",
    "print(data.value_counts().head())"
   ]
  },
  {
   "cell_type": "markdown",
   "metadata": {},
   "source": [
    "We clearly see the vast majority of births take place at the 39th week - and that overall there is more of a tendency to be late than early (the number of births in the 40 and 41 weeks buckets are 4 times those in the 38 bucket).\n",
    "\n",
    "Now the question remains, how does that compare to a second, third or 4th child? Let's plot all of those together:"
   ]
  },
  {
   "cell_type": "code",
   "execution_count": 103,
   "metadata": {
    "collapsed": false
   },
   "outputs": [
    {
     "name": "stdout",
     "output_type": "stream",
     "text": [
      "number of births for child 1: 4347\n",
      "\tnumber of births on early, on time, late: 22.52%, 49.30%, 28.18%\n",
      "\tmean, standard deviation: 38.71, 38.71\n",
      "number of births for child 2: 2822\n",
      "\tnumber of births on early, on time, late: 23.46%, 53.15%, 23.39%\n",
      "\tmean, standard deviation: 38.65, 38.65\n",
      "number of births for child 3: 1196\n",
      "\tnumber of births on early, on time, late: 22.24%, 56.10%, 21.66%\n",
      "\tmean, standard deviation: 38.59, 38.59\n",
      "number of births for child 4: 407\n",
      "\tnumber of births on early, on time, late: 20.39%, 61.67%, 17.94%\n",
      "\tmean, standard deviation: 38.60, 38.60\n"
     ]
    },
    {
     "data": {
      "text/plain": [
       "<matplotlib.legend.Legend at 0x2db39b36c88>"
      ]
     },
     "execution_count": 103,
     "metadata": {},
     "output_type": "execute_result"
    },
    {
     "data": {
      "image/png": "[encoded data removed]",
      "text/plain": [
       "<matplotlib.figure.Figure at 0x2db39b36dd8>"
      ]
     },
     "metadata": {},
     "output_type": "display_data"
    }
   ],
   "source": [
    "numbins = 34\n",
    "for idx in range(1,5):\n",
    "    child_n = df[df['pregend1'].isin([5,6]) & ((df['multbrth'] == 5) | df['multbrth'].isnull()) & (df['birthord'] == idx)]\n",
    "    data = child_n.wksgest[(child_n.wksgest > 20) & (child_n.wksgest < 54)]\n",
    "    data.dropna() # yep - data isn't that clean\n",
    "    plt.hist(data, bins=numbins, alpha=0.5, label='{0}'.format(idx), normed=1)\n",
    "    total = len(data)\n",
    "    print('number of births for child {0}: {1}'.format(idx, total))\n",
    "    print('\\tnumber of births on early, on time, late: {0:.2f}%, {1:.2f}%, {2:.2f}%'.format(len(data[data < 39])/total*100, \n",
    "                                                                       len(data[data == 39])/total*100,\n",
    "                                                                       len(data[data > 39])/total*100))\n",
    "    print('\\tmean, standard deviation: {0:.2f}, {0:.2f}'.format(data.mean(), data.std()))\n",
    "plt.legend(loc='upper right')"
   ]
  },
  {
   "cell_type": "markdown",
   "metadata": {},
   "source": [
    "Note that the histogram above has been normalised (otherwise the peak for child 1 would look a lot higher - there are 4 times as meany 1st child as there are 4th).\n",
    "\n",
    "It does look like the first child likely to come a little later than expected. Now technically a pregnancy is overdue at 42 weeks and above and pre-term at 37 and below. Taking this into account, let's see if this changes anything:"
   ]
  },
  {
   "cell_type": "code",
   "execution_count": 110,
   "metadata": {
    "collapsed": false
   },
   "outputs": [
    {
     "name": "stdout",
     "output_type": "stream",
     "text": [
      "number of births for child 1: 4347\n",
      "\tnumber of births on early, on time, late: 16.82%, 92.41%, 7.59%\n",
      "\tmean, standard deviation: 38.71, 38.71\n",
      "number of births for child 2: 2822\n",
      "\tnumber of births on early, on time, late: 15.91%, 95.00%, 5.00%\n",
      "\tmean, standard deviation: 38.65, 38.65\n",
      "number of births for child 3: 1196\n",
      "\tnumber of births on early, on time, late: 16.56%, 95.48%, 4.52%\n",
      "\tmean, standard deviation: 38.59, 38.59\n",
      "number of births for child 4: 407\n",
      "\tnumber of births on early, on time, late: 14.00%, 96.07%, 3.93%\n",
      "\tmean, standard deviation: 38.60, 38.60\n"
     ]
    }
   ],
   "source": [
    "numbins = 34\n",
    "for idx in range(1,5):\n",
    "    child_n = df[df['pregend1'].isin([5,6]) & ((df['multbrth'] == 5) | df['multbrth'].isnull()) & (df['birthord'] == idx)]\n",
    "    data = child_n.wksgest[(child_n.wksgest > 20) & (child_n.wksgest < 54)]\n",
    "    data.dropna() # yep - data isn't that clean\n",
    "    total = len(data)\n",
    "    print('number of births for child {0}: {1}'.format(idx, total))\n",
    "    print('\\tnumber of births on early, on time, late: {0:.2f}%, {1:.2f}%, {2:.2f}%'.format(len(data[data <= 37])/total*100, \n",
    "                                                                       len(38 <= data[data <= 41])/total*100,\n",
    "                                                                       len(data[data >= 42])/total*100))\n",
    "    print('\\tmean, standard deviation: {0:.2f}, {0:.2f}'.format(data.mean(), data.std()))"
   ]
  },
  {
   "cell_type": "markdown",
   "metadata": {},
   "source": [
    "And it doesn't - not only are first borns more likely to be late, they're also more likely to be early. If anything, they're the less likely to be on time!\n",
    "\n",
    "## Conclusion\n",
    "\n",
    "What took the longest was sourcing and parsing the data - that's probably 80% of the time spent there and only 20% on the actual analysis. On the plus side it looks we did manage to support the original hypothesis - though with more (relevant) context."
   ]
  }
 ],
 "metadata": {
  "kernelspec": {
   "display_name": "Python 3",
   "language": "python",
   "name": "python3"
  },
  "language_info": {
   "codemirror_mode": {
    "name": "ipython",
    "version": 3
   },
   "file_extension": ".py",
   "mimetype": "text/x-python",
   "name": "python",
   "nbconvert_exporter": "python",
   "pygments_lexer": "ipython3",
   "version": "3.6.0"
  }
 },
 "nbformat": 4,
 "nbformat_minor": 2
}
